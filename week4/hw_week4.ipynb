{
 "cells": [
  {
   "cell_type": "code",
   "execution_count": 16,
   "metadata": {},
   "outputs": [],
   "source": [
    "import pandas as pd\n",
    "df = pd.read_excel('H1.xls')\n",
    "df.columns\n",
    "url_col = \"Online Document Address （必填）\"\n",
    "stu_name_col = \"Student Name （必填）\"\n",
    "stu_id_col = \"Student Number （必填）\""
   ]
  },
  {
   "cell_type": "code",
   "execution_count": 17,
   "metadata": {},
   "outputs": [],
   "source": [
    "def url(url):\n",
    "    while len(url.split('\\n')) > 1:\n",
    "        url = url.split('\\n')[1]\n",
    "    return url\n",
    "\n",
    "df['url'] = df[url_col].apply(url)\n"
   ]
  },
  {
   "cell_type": "code",
   "execution_count": 19,
   "metadata": {},
   "outputs": [],
   "source": [
    "#对df['processed_url']的每一行，从'https'开始提取，到出现第一个空为止\n",
    "New_H1=df['url'].str.extract(r'(https\\S+)').dropna()\n",
    "New_H1.to_excel('New_H1.xlsx')\n",
    "\n",
    "\n"
   ]
  },
  {
   "cell_type": "code",
   "execution_count": null,
   "metadata": {},
   "outputs": [],
   "source": []
  }
 ],
 "metadata": {
  "kernelspec": {
   "display_name": "base",
   "language": "python",
   "name": "python3"
  },
  "language_info": {
   "codemirror_mode": {
    "name": "ipython",
    "version": 3
   },
   "file_extension": ".py",
   "mimetype": "text/x-python",
   "name": "python",
   "nbconvert_exporter": "python",
   "pygments_lexer": "ipython3",
   "version": "3.11.5"
  }
 },
 "nbformat": 4,
 "nbformat_minor": 2
}
