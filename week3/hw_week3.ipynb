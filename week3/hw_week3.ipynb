{
 "cells": [
  {
   "cell_type": "markdown",
   "metadata": {},
   "source": [
    "NAME:王炳杰 \\\n",
    "STU_ID:2301212385"
   ]
  },
  {
   "cell_type": "markdown",
   "metadata": {},
   "source": [
    "### 04_HW1\n",
    "Given two strings s and t, return true if t is an anagram of s, and false  \\\n",
    "otherwise. (Using Dictionary) \\\n",
    "Example : \n",
    "```python\n",
    "Input: s = \"anagram\", t = \"nagaram\" \n",
    "Output: True \n",
    "print(IsAnagram(s,t)) \n",
    "def IsAnagram(s,t): \n",
    "return True or False  \n"
   ]
  },
  {
   "cell_type": "code",
   "execution_count": 1,
   "metadata": {},
   "outputs": [
    {
     "data": {
      "text/plain": [
       "True"
      ]
     },
     "execution_count": 1,
     "metadata": {},
     "output_type": "execute_result"
    }
   ],
   "source": [
    "def IsAnagram(s, t):\n",
    "    # If the lengths of the strings are different, they cannot be anagrams\n",
    "    if len(s) != len(t):\n",
    "        return False\n",
    "\n",
    "    # Creating a dictionary to store the frequency of each character in s\n",
    "    char_count = {}\n",
    "    for char in s:\n",
    "        if char in char_count:\n",
    "            char_count[char] += 1\n",
    "        else:\n",
    "            char_count[char] = 1\n",
    "\n",
    "    # Subtracting the frequency of each character in t from the dictionary\n",
    "    for char in t:\n",
    "        if char in char_count:\n",
    "            char_count[char] -= 1\n",
    "        else:\n",
    "            # If the character is not found in the dictionary, they are not anagrams\n",
    "            return False\n",
    "\n",
    "    # If all counts are 0, then they are anagrams\n",
    "    return all(count == 0 for count in char_count.values())\n",
    "\n"
   ]
  },
  {
   "cell_type": "code",
   "execution_count": 2,
   "metadata": {},
   "outputs": [
    {
     "name": "stdout",
     "output_type": "stream",
     "text": [
      "True\n",
      "False\n"
     ]
    }
   ],
   "source": [
    "\n",
    "# Test the function with the given example\n",
    "s = \"anagram\"\n",
    "t = \"nagaram\"\n",
    "s1=\"abc\"\n",
    "t1=\"ab\"\n",
    "print(IsAnagram(s, t))\n",
    "print(IsAnagram(s1, t1))"
   ]
  },
  {
   "cell_type": "markdown",
   "metadata": {},
   "source": [
    "### 04_HW2\n",
    "Given a non-negative integer x, compute and return the square root of x. \\\n",
    "Since the return type is an integer, the decimal digits are truncated, and \\\n",
    "only the integer part of the result is returned. \\\n",
    "Note: You are not allowed to use any built-in exponent function or operator, \\\n",
    "such as pow(x, 0.5) or x ** 0.5. \\\n",
    "Example: \n",
    "```python\n",
    "Input: x = 8 \n",
    "Output: 2 \n",
    "def MySqrt(x): \n",
    "return xxx\n"
   ]
  },
  {
   "cell_type": "code",
   "execution_count": 3,
   "metadata": {},
   "outputs": [],
   "source": [
    "def MySqrt(x):\n",
    "    # Edge case: if x is 0 or 1, return x\n",
    "    if x < 2:\n",
    "        return x\n",
    "\n",
    "    # Binary search to find the square root\n",
    "    left, right = 1, x // 2\n",
    "    while left <= right:\n",
    "        mid = (left + right) // 2\n",
    "        squared = mid * mid\n",
    "        if squared == x:\n",
    "            return mid\n",
    "        elif squared < x:\n",
    "            left = mid + 1\n",
    "        else:\n",
    "            right = mid - 1\n",
    "    \n",
    "    # The right pointer will end up at the integer part of the square root\n",
    "    return right\n"
   ]
  },
  {
   "cell_type": "code",
   "execution_count": 4,
   "metadata": {},
   "outputs": [
    {
     "data": {
      "text/plain": [
       "2"
      ]
     },
     "execution_count": 4,
     "metadata": {},
     "output_type": "execute_result"
    }
   ],
   "source": [
    "# Test the function with the given example\n",
    "x = 8\n",
    "MySqrt(x)"
   ]
  },
  {
   "cell_type": "markdown",
   "metadata": {},
   "source": [
    "### 05_HW3\n",
    "A robot is located at the top-left corner of a m x n grid (marked 'Start' in the diagram below). \\\n",
    "The robot can only move either down or right at any point in time. The robot is trying to reach \\\n",
    "the bottom-right corner of the grid (marked 'Finish' in the diagram below). \\\n",
    "How many possible unique paths are there? \n",
    "```Python\n",
    "Input: m = 3, n = 2\n",
    "Output: 3\n",
    "Explanation:\n",
    "From the top-left corner, there are a total of 3 ways to \n",
    "reach the bottom-right corner:\n",
    "1. Right -> Down -> Down\n",
    "2. Down -> Down -> Right\n",
    "3. Down -> Right -> Down\n"
   ]
  },
  {
   "cell_type": "code",
   "execution_count": 5,
   "metadata": {},
   "outputs": [],
   "source": [
    "def uniquePaths(m, n):\n",
    "    # Initializing a 2D array with zeros\n",
    "    dp = [[0 for _ in range(n)] for _ in range(m)]\n",
    "\n",
    "    # Setting the first row and first column to 1 as there is only one way to reach these cells\n",
    "    for i in range(m):\n",
    "        dp[i][0] = 1\n",
    "    for j in range(n):\n",
    "        dp[0][j] = 1\n",
    "\n",
    "    # Calculating the number of ways to reach each cell\n",
    "    for i in range(1, m):\n",
    "        for j in range(1, n):\n",
    "            dp[i][j] = dp[i - 1][j] + dp[i][j - 1]\n",
    "\n",
    "    # The number of ways to reach the bottom-right corner\n",
    "    return dp[m - 1][n - 1]\n"
   ]
  },
  {
   "cell_type": "code",
   "execution_count": 6,
   "metadata": {},
   "outputs": [
    {
     "data": {
      "text/plain": [
       "3"
      ]
     },
     "execution_count": 6,
     "metadata": {},
     "output_type": "execute_result"
    }
   ],
   "source": [
    "# Test the function with the given example\n",
    "m = 3\n",
    "n = 2\n",
    "uniquePaths(m, n)"
   ]
  },
  {
   "cell_type": "markdown",
   "metadata": {},
   "source": [
    "### 05_HW4\n",
    "Given an integer array nums, return the length of the longest strictly increasing subsequence.\\\n",
    "A subsequence is a sequence that can be derived from an array by deleting some or no \\\n",
    "elements without changing the order of the remaining elements. For example, [3,6,2,7] is a \\\n",
    "subsequence of the array [0,3,1,6,2,2,7].\\\n",
    "Example 1:\n",
    "```Python\n",
    "Input: nums = [10,9,2,5,3,7,101,18]\n",
    "Output: 4\n",
    "Explanation: The longest increasing subsequence is [2,3,7,101], therefore the length is 4.\n",
    "```\n",
    "Example 2:\n",
    "```Python\n",
    "Input: nums = [0,1,0,3,2,3]\n",
    "Output: 4\n"
   ]
  },
  {
   "cell_type": "code",
   "execution_count": 9,
   "metadata": {},
   "outputs": [],
   "source": [
    "def lengthOfLIS(nums):\n",
    "    # Edge case: if the array is empty\n",
    "    if not nums:\n",
    "        return 0\n",
    "\n",
    "    # Initialize the list to store the length of the longest subsequence at each index\n",
    "    dp = [1] * len(nums)\n",
    "\n",
    "    # For each element in nums, check all the elements before it\n",
    "    for i in range(1, len(nums)):\n",
    "        for j in range(i):\n",
    "            # If the current element is greater than a previous one, update dp[i]\n",
    "            if nums[i] > nums[j]:\n",
    "                dp[i] = max(dp[i], dp[j] + 1)\n",
    "\n",
    "    # The length of the longest increasing subsequence is the maximum value in dp\n",
    "    return max(dp)"
   ]
  },
  {
   "cell_type": "code",
   "execution_count": 10,
   "metadata": {},
   "outputs": [
    {
     "data": {
      "text/plain": [
       "(4, 4)"
      ]
     },
     "execution_count": 10,
     "metadata": {},
     "output_type": "execute_result"
    }
   ],
   "source": [
    "# Test the function with the provided examples\n",
    "nums1 = [10,9,2,5,3,7,101,18]\n",
    "nums2 = [0,1,0,3,2,3]\n",
    "\n",
    "length1 = lengthOfLIS(nums1)\n",
    "length2 = lengthOfLIS(nums2)\n",
    "\n",
    "(length1, length2)"
   ]
  }
 ],
 "metadata": {
  "kernelspec": {
   "display_name": "base",
   "language": "python",
   "name": "python3"
  },
  "language_info": {
   "codemirror_mode": {
    "name": "ipython",
    "version": 3
   },
   "file_extension": ".py",
   "mimetype": "text/x-python",
   "name": "python",
   "nbconvert_exporter": "python",
   "pygments_lexer": "ipython3",
   "version": "3.11.5"
  }
 },
 "nbformat": 4,
 "nbformat_minor": 2
}
