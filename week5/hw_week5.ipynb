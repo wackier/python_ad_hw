{
 "cells": [
  {
   "cell_type": "code",
   "execution_count": 28,
   "metadata": {},
   "outputs": [
    {
     "data": {
      "text/plain": [
       "<Popen: returncode: None args: ['open', './new.pdf']>"
      ]
     },
     "execution_count": 28,
     "metadata": {},
     "output_type": "execute_result"
    }
   ],
   "source": [
    "import os\n",
    "from PyPDF2 import PdfReader, PdfWriter\n",
    "\n",
    "# Path to the 'mypdfs' folder in the current working directory\n",
    "folder_path = './mypdfs'\n",
    "\n",
    "# List all PDF files in the 'mypdfs' folder\n",
    "pdf_files = [f for f in os.listdir(folder_path) if f.endswith('.pdf')]\n",
    "\n",
    "# Create a PdfFileWriter object to store the merged pages\n",
    "pdf_writer = PdfWriter()\n",
    "\n",
    "# Extract the first page of each PDF and add it to the merged PDF\n",
    "for pdf_file in pdf_files:\n",
    "    full_path = os.path.join(folder_path, pdf_file)\n",
    "    with open(full_path, 'rb') as file:\n",
    "        pdf_reader = PdfReader(file)\n",
    "        # Check if the document has at least one page\n",
    "        if len(pdf_reader.pages) > 0:\n",
    "            # Add the first page to the merged PDF\n",
    "            first_page = pdf_reader.pages[0]\n",
    "            pdf_writer.add_page(first_page)\n",
    "\n",
    "# Save the merged PDF to a new file\n",
    "output_file_path = './new.pdf'\n",
    "with open(output_file_path, 'wb') as output_file:\n",
    "    pdf_writer.write(output_file)\n",
    "\n",
    "\n"
   ]
  },
  {
   "cell_type": "code",
   "execution_count": null,
   "metadata": {},
   "outputs": [],
   "source": []
  }
 ],
 "metadata": {
  "kernelspec": {
   "display_name": "base",
   "language": "python",
   "name": "python3"
  },
  "language_info": {
   "codemirror_mode": {
    "name": "ipython",
    "version": 3
   },
   "file_extension": ".py",
   "mimetype": "text/x-python",
   "name": "python",
   "nbconvert_exporter": "python",
   "pygments_lexer": "ipython3",
   "version": "3.11.5"
  }
 },
 "nbformat": 4,
 "nbformat_minor": 2
}
