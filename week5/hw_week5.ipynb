{
 "cells": [
  {
   "cell_type": "code",
   "execution_count": null,
   "metadata": {},
   "outputs": [],
   "source": [
    "import zipfile\n",
    "import fitz  # PyMuPDF\n",
    "import os\n",
    "\n",
    "# Assuming the PDF files are in the current working directory\n",
    "folder_path = '.'\n",
    "\n",
    "# List all PDF files in the folder\n",
    "pdf_files = [f for f in os.listdir(folder_path) if f.endswith('.pdf')]\n",
    "\n",
    "# Initialize a new PDF to store the first pages\n",
    "new_pdf = fitz.open()\n",
    "\n",
    "# Extract the first page of each PDF and add it to the new PDF\n",
    "for pdf_file in pdf_files:\n",
    "    with fitz.open(pdf_file) as doc:\n",
    "        # Check if the document has at least one page\n",
    "        if doc.page_count > 0:\n",
    "            # Extract the first page\n",
    "            first_page = doc.load_page(0)\n",
    "            # Add the first page to the new PDF\n",
    "            new_pdf.insert_pdf(doc, from_page=0, to_page=0)\n",
    "\n",
    "# Save the new PDF\n",
    "output_file_path = '/mnt/data/new.pdf'\n",
    "new_pdf.save(output_file_path)\n",
    "\n",
    "output_file_path"
   ]
  }
 ],
 "metadata": {
  "kernelspec": {
   "display_name": "base",
   "language": "python",
   "name": "python3"
  },
  "language_info": {
   "codemirror_mode": {
    "name": "ipython",
    "version": 3
   },
   "file_extension": ".py",
   "mimetype": "text/x-python",
   "name": "python",
   "nbconvert_exporter": "python",
   "pygments_lexer": "ipython3",
   "version": "3.11.5"
  }
 },
 "nbformat": 4,
 "nbformat_minor": 2
}
